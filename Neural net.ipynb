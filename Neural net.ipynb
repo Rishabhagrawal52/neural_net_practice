{
 "cells": [
  {
   "cell_type": "code",
   "execution_count": 1,
   "metadata": {},
   "outputs": [],
   "source": [
    "import numpy as np"
   ]
  },
  {
   "cell_type": "code",
   "execution_count": 2,
   "metadata": {},
   "outputs": [],
   "source": [
    "def sigmoid(x,deriv=False):\n",
    "    if(deriv==True):\n",
    "        return(x*(1-x))\n",
    "    return 1/(1+np.exp(-x))\n",
    "#input data\n",
    "X=np.array([[0,0,1],\n",
    "[0,1,1],\n",
    "[1,0,1],\n",
    "[1,1,1]])\n",
    "\n",
    "Y=np.array([[0],[1],[1],[0]])"
   ]
  },
  {
   "cell_type": "code",
   "execution_count": 3,
   "metadata": {},
   "outputs": [],
   "source": [
    "#seeding the data\n",
    "np.random.seed(1)"
   ]
  },
  {
   "cell_type": "code",
   "execution_count": 4,
   "metadata": {},
   "outputs": [],
   "source": [
    "#creating the synapses/weights\n",
    "w0=2*np.random.random((3,4))-1\n",
    "w1=2*np.random.random((4,1))-1"
   ]
  },
  {
   "cell_type": "code",
   "execution_count": 6,
   "metadata": {},
   "outputs": [
    {
     "name": "stdout",
     "output_type": "stream",
     "text": [
      "Error0.4964100319027255\n",
      "Error0.008584525653247157\n",
      "Error0.005789459862507806\n",
      "Error0.004629176776769983\n",
      "Error0.0039587652802736475\n",
      "Error0.0035101225678616744\n",
      "output after training  [[0.00260572]\n",
      " [0.99672209]\n",
      " [0.99701711]\n",
      " [0.00386759]]\n"
     ]
    }
   ],
   "source": [
    "#training the network with the data x and y\n",
    "\n",
    "for j in range(60000):\n",
    "    #layers of network\n",
    "    \n",
    "    l0=X\n",
    "    l1=sigmoid(np.dot(l0,w0))\n",
    "    l2=sigmoid(np.dot(l1,w1))\n",
    "    \n",
    "    #backpropogation\n",
    "    \n",
    "    l2_error=Y-l2\n",
    "    if (j%10000)==0:\n",
    "        print (\"Error\"+str(np.mean(np.abs(l2_error))))\n",
    "        \n",
    "    #calculating deltas()\n",
    "    \n",
    "    l2_delta=l2_error*sigmoid(l2,deriv=True)\n",
    "    \n",
    "    l1_error=l2_delta.dot(w1.T)\n",
    "    \n",
    "    l1_delta=l1_error*sigmoid(l1, deriv=True)\n",
    "    \n",
    "    #updating the synapses /wieghts\n",
    "    w1+=l1.T.dot(l2_delta)\n",
    "    w0+=l0.T.dot(l1_delta)\n",
    "\n",
    "    \n",
    "print(\"output after training \",l2)\n",
    "\n"
   ]
  },
  {
   "cell_type": "code",
   "execution_count": 9,
   "metadata": {},
   "outputs": [
    {
     "ename": "SyntaxError",
     "evalue": "Missing parentheses in call to 'print'. Did you mean print(arr)? (<ipython-input-9-3740107ea022>, line 8)",
     "output_type": "error",
     "traceback": [
      "\u001b[1;36m  File \u001b[1;32m\"<ipython-input-9-3740107ea022>\"\u001b[1;36m, line \u001b[1;32m8\u001b[0m\n\u001b[1;33m    print arr\u001b[0m\n\u001b[1;37m            ^\u001b[0m\n\u001b[1;31mSyntaxError\u001b[0m\u001b[1;31m:\u001b[0m Missing parentheses in call to 'print'. Did you mean print(arr)?\n"
     ]
    }
   ],
   "source": []
  },
  {
   "cell_type": "code",
   "execution_count": null,
   "metadata": {},
   "outputs": [],
   "source": []
  },
  {
   "cell_type": "code",
   "execution_count": null,
   "metadata": {},
   "outputs": [],
   "source": []
  }
 ],
 "metadata": {
  "kernelspec": {
   "display_name": "Python 3",
   "language": "python",
   "name": "python3"
  },
  "language_info": {
   "codemirror_mode": {
    "name": "ipython",
    "version": 3
   },
   "file_extension": ".py",
   "mimetype": "text/x-python",
   "name": "python",
   "nbconvert_exporter": "python",
   "pygments_lexer": "ipython3",
   "version": "3.6.5"
  }
 },
 "nbformat": 4,
 "nbformat_minor": 2
}
